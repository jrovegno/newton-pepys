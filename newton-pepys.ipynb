{
 "cells": [
  {
   "cell_type": "code",
   "execution_count": 1,
   "metadata": {
    "collapsed": true
   },
   "outputs": [],
   "source": [
    "# https://en.wikipedia.org/wiki/Newton%E2%80%93Pepys_problem"
   ]
  },
  {
   "cell_type": "code",
   "execution_count": 2,
   "metadata": {
    "collapsed": false
   },
   "outputs": [
    {
     "name": "stdout",
     "output_type": "stream",
     "text": [
      "Probability of at least 1 six in 6 fair dice: 0.665102 \n",
      "Probability of at least 2 six in 12 fair dice: 0.6186674 \n",
      "Probability of at least 3 six in 18 fair dice: 0.5973457 \n"
     ]
    }
   ],
   "source": [
    "for (s in 1:3) {          # looking for s = 1, 2 or 3 sixes\n",
    "  n = 6*s                 # ... in n = 6, 12 or 18 dice\n",
    "  q = pbinom(s-1,n,1/6)   # q = Prob( <s sixes in n dice )\n",
    "  cat( \"Probability of at least\", s, \"six in\", n, \"fair dice:\", 1-q, \"\\n\")\n",
    "}"
   ]
  },
  {
   "cell_type": "code",
   "execution_count": null,
   "metadata": {
    "collapsed": true
   },
   "outputs": [],
   "source": []
  }
 ],
 "metadata": {
  "kernelspec": {
   "display_name": "R",
   "language": "R",
   "name": "ir"
  },
  "language_info": {
   "codemirror_mode": "r",
   "file_extension": ".r",
   "mimetype": "text/x-r-source",
   "name": "R",
   "pygments_lexer": "r",
   "version": "3.1.3"
  }
 },
 "nbformat": 4,
 "nbformat_minor": 0
}
